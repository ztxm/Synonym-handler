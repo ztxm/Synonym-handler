{
 "cells": [
  {
   "cell_type": "code",
   "execution_count": 1,
   "metadata": {},
   "outputs": [],
   "source": [
    "import pandas as pd\n",
    "import numpy as np\n",
    "import matplotlib.pyplot as plt\n",
    "import matplotlib as mpl\n",
    "import os\n",
    "import datetime, time\n",
    "import re\n",
    "pd.set_option('max_columns', 50)\n",
    "mpl.rcParams[\"lines.linewidth\"] = 2\n",
    "# чтобы графики строились непосредственно в блокноте iPython\n",
    "%matplotlib inline"
   ]
  },
  {
   "cell_type": "code",
   "execution_count": 2,
   "metadata": {},
   "outputs": [
    {
     "name": "stdout",
     "output_type": "stream",
     "text": [
      "['test-new-syn.csv', 'test-old.csv']\n"
     ]
    }
   ],
   "source": [
    "#Каталог из которого будем брать файлы \n",
    "directory = \"\"\n",
    "#directory = r'c:/users/Вадим/Work/files2'\n",
    "directory = r'C:/Users/Вадим/Documents/Phyton komus/synonyms/test'\n",
    "\n",
    "#Получаем список файлов в переменную files \n",
    "files = os.listdir(directory) \n",
    "print (files)"
   ]
  },
  {
   "cell_type": "code",
   "execution_count": 3,
   "metadata": {},
   "outputs": [
    {
     "name": "stdout",
     "output_type": "stream",
     "text": [
      "C:\\Users\\Вадим\\Documents\\Phyton komus\\synonyms\\test\\test-old.csv\n"
     ]
    }
   ],
   "source": [
    "#file_search_query = \"syn_from_hmc_test.csv.txt\" #файл база синонимов, с которым будем работать\n",
    "#file_new_synonyms = \"new_syn.csv\" #файл: список новых синонимов, который хотим добавить\n",
    "file_search_query = \"test-old.csv\" #файл база синонимов, с которым будем работать\n",
    "file_new_synonyms = \"test-new-syn.csv\" #файл: список новых синонимов, который хотим добавить? (заголовок должен быть удалён)\n",
    "\n",
    "\n",
    "directory_path = \"\"\n",
    "#directory = os.path.normcase(os.path.join(directory, file_search_sell)) \n",
    "directory_path = os.path.normpath(os.path.join(directory, file_search_query))\n",
    "#directory = os.path.join(directory, file_search_sell)\n",
    "print (directory_path)"
   ]
  },
  {
   "cell_type": "code",
   "execution_count": 4,
   "metadata": {},
   "outputs": [],
   "source": [
    "#df = pd.read_excel(r\"c:\\users\\вадим\\work\\excel data files\\example2.xlsx\")\n",
    "#df = pd.read_excel(directory_path)\n",
    "#df = pd.read_csv(directory_path, ',')\n",
    "\n",
    "#from pandas import read_csv\n",
    "#print(os.path.dirname(os.path.realpath(\"1\"))) #смотрим какой путь выбирает система)\n",
    "os.chdir(directory) #меняем путь\n",
    "#print(os.path.dirname(os.path.realpath(\"1\"))) #смотрим какой путь выбирает система)\n",
    "#d = {columns:\"a1\", \"a2\"}\n",
    "#df = pd.DataFrame(d)\n",
    "#df.head() #покажем выборку полученного dataset"
   ]
  },
  {
   "cell_type": "code",
   "execution_count": 5,
   "metadata": {},
   "outputs": [],
   "source": [
    "\n",
    "\n",
    "df = pd.read_csv(file_search_query, sep =\";\", header = None,  names = [\"search_query\",\"synonym\"]) #вводим имя файла, который будем преобразовывать и \";\" разделитель\n"
   ]
  },
  {
   "cell_type": "code",
   "execution_count": 6,
   "metadata": {
    "scrolled": false
   },
   "outputs": [
    {
     "data": {
      "text/html": [
       "<div>\n",
       "<style scoped>\n",
       "    .dataframe tbody tr th:only-of-type {\n",
       "        vertical-align: middle;\n",
       "    }\n",
       "\n",
       "    .dataframe tbody tr th {\n",
       "        vertical-align: top;\n",
       "    }\n",
       "\n",
       "    .dataframe thead th {\n",
       "        text-align: right;\n",
       "    }\n",
       "</style>\n",
       "<table border=\"1\" class=\"dataframe\">\n",
       "  <thead>\n",
       "    <tr style=\"text-align: right;\">\n",
       "      <th></th>\n",
       "      <th>search_query</th>\n",
       "      <th>synonym</th>\n",
       "    </tr>\n",
       "  </thead>\n",
       "  <tbody>\n",
       "    <tr>\n",
       "      <th>0</th>\n",
       "      <td>Miles from Tomorrowland</td>\n",
       "      <td>тыква, банан арбуз</td>\n",
       "    </tr>\n",
       "    <tr>\n",
       "      <th>1</th>\n",
       "      <td>Military</td>\n",
       "      <td>милитари</td>\n",
       "    </tr>\n",
       "    <tr>\n",
       "      <th>2</th>\n",
       "      <td>Milk Frother</td>\n",
       "      <td>неприменимо</td>\n",
       "    </tr>\n",
       "    <tr>\n",
       "      <th>3</th>\n",
       "      <td>Zenit3D</td>\n",
       "      <td>зенитттт, тестыщ</td>\n",
       "    </tr>\n",
       "  </tbody>\n",
       "</table>\n",
       "</div>"
      ],
      "text/plain": [
       "              search_query             synonym\n",
       "0  Miles from Tomorrowland  тыква, банан арбуз\n",
       "1                 Military            милитари\n",
       "2             Milk Frother         неприменимо\n",
       "3                  Zenit3D    зенитттт, тестыщ"
      ]
     },
     "execution_count": 6,
     "metadata": {},
     "output_type": "execute_result"
    }
   ],
   "source": [
    "df.shape #размерность матрицы\n",
    "df.head() #покажем выборку полученного dataset"
   ]
  },
  {
   "cell_type": "code",
   "execution_count": 7,
   "metadata": {
    "scrolled": true
   },
   "outputs": [],
   "source": [
    "#df.rename()\n",
    "#df = df.rename(columns={\n",
    "#    'unit': 'search_query', \n",
    "#    'unit, юнит': 'synonym'\n",
    "#})\n",
    "# OR\n",
    "#df.rename(columns={'oldName1': 'newName1', 'oldName2': 'newName2'}, inplace=True)\n",
    "#df.head()"
   ]
  },
  {
   "cell_type": "markdown",
   "metadata": {},
   "source": [
    "#Колличество поисковых запросов в выгрузке "
   ]
  },
  {
   "cell_type": "code",
   "execution_count": 8,
   "metadata": {
    "scrolled": false
   },
   "outputs": [
    {
     "name": "stdout",
     "output_type": "stream",
     "text": [
      "4\n"
     ]
    }
   ],
   "source": [
    "len1 = len(df.index)\n",
    "print(len1)"
   ]
  },
  {
   "cell_type": "code",
   "execution_count": 9,
   "metadata": {},
   "outputs": [
    {
     "data": {
      "text/html": [
       "<div>\n",
       "<style scoped>\n",
       "    .dataframe tbody tr th:only-of-type {\n",
       "        vertical-align: middle;\n",
       "    }\n",
       "\n",
       "    .dataframe tbody tr th {\n",
       "        vertical-align: top;\n",
       "    }\n",
       "\n",
       "    .dataframe thead th {\n",
       "        text-align: right;\n",
       "    }\n",
       "</style>\n",
       "<table border=\"1\" class=\"dataframe\">\n",
       "  <thead>\n",
       "    <tr style=\"text-align: right;\">\n",
       "      <th></th>\n",
       "      <th>search_query</th>\n",
       "      <th>synonym</th>\n",
       "    </tr>\n",
       "  </thead>\n",
       "  <tbody>\n",
       "    <tr>\n",
       "      <th>0</th>\n",
       "      <td>miles from tomorrowland</td>\n",
       "      <td>тыква, банан арбуз</td>\n",
       "    </tr>\n",
       "    <tr>\n",
       "      <th>1</th>\n",
       "      <td>military</td>\n",
       "      <td>милитари</td>\n",
       "    </tr>\n",
       "    <tr>\n",
       "      <th>2</th>\n",
       "      <td>milk frother</td>\n",
       "      <td>неприменимо</td>\n",
       "    </tr>\n",
       "    <tr>\n",
       "      <th>3</th>\n",
       "      <td>zenit3d</td>\n",
       "      <td>зенитттт, тестыщ</td>\n",
       "    </tr>\n",
       "  </tbody>\n",
       "</table>\n",
       "</div>"
      ],
      "text/plain": [
       "              search_query             synonym\n",
       "0  miles from tomorrowland  тыква, банан арбуз\n",
       "1                 military            милитари\n",
       "2             milk frother         неприменимо\n",
       "3                  zenit3d    зенитттт, тестыщ"
      ]
     },
     "execution_count": 9,
     "metadata": {},
     "output_type": "execute_result"
    }
   ],
   "source": [
    "#Чистим от лишинх пробелов \"поисковые запросы\"\n",
    "df['search_query'] = df['search_query'].apply(lambda x: str(x).strip(' ').lower())\n",
    "df['search_query'] = df['search_query'].apply(lambda x: re.sub(r'\\s+', ' ', str(x) )) #удаляем лишние пробелы внутри слов\n",
    "df.head(10)"
   ]
  },
  {
   "cell_type": "code",
   "execution_count": 10,
   "metadata": {},
   "outputs": [],
   "source": [
    "# sorting by first name \n",
    "df.sort_values(\"search_query\", inplace=True) \n",
    "\n",
    "#объединяем строки\n",
    "df[\"ab\"] = df.search_query + \" \" + df.synonym\n",
    "\n"
   ]
  },
  {
   "cell_type": "code",
   "execution_count": 11,
   "metadata": {},
   "outputs": [
    {
     "data": {
      "text/html": [
       "<div>\n",
       "<style scoped>\n",
       "    .dataframe tbody tr th:only-of-type {\n",
       "        vertical-align: middle;\n",
       "    }\n",
       "\n",
       "    .dataframe tbody tr th {\n",
       "        vertical-align: top;\n",
       "    }\n",
       "\n",
       "    .dataframe thead th {\n",
       "        text-align: right;\n",
       "    }\n",
       "</style>\n",
       "<table border=\"1\" class=\"dataframe\">\n",
       "  <thead>\n",
       "    <tr style=\"text-align: right;\">\n",
       "      <th></th>\n",
       "      <th>search_query</th>\n",
       "      <th>synonym</th>\n",
       "      <th>ab</th>\n",
       "    </tr>\n",
       "  </thead>\n",
       "  <tbody>\n",
       "    <tr>\n",
       "      <th>0</th>\n",
       "      <td>miles from tomorrowland</td>\n",
       "      <td>тыква, банан арбуз</td>\n",
       "      <td>miles from tomorrowland тыква, банан арбуз</td>\n",
       "    </tr>\n",
       "    <tr>\n",
       "      <th>1</th>\n",
       "      <td>military</td>\n",
       "      <td>милитари</td>\n",
       "      <td>military милитари</td>\n",
       "    </tr>\n",
       "    <tr>\n",
       "      <th>2</th>\n",
       "      <td>milk frother</td>\n",
       "      <td>неприменимо</td>\n",
       "      <td>milk frother неприменимо</td>\n",
       "    </tr>\n",
       "    <tr>\n",
       "      <th>3</th>\n",
       "      <td>zenit3d</td>\n",
       "      <td>зенитттт, тестыщ</td>\n",
       "      <td>zenit3d зенитттт, тестыщ</td>\n",
       "    </tr>\n",
       "  </tbody>\n",
       "</table>\n",
       "</div>"
      ],
      "text/plain": [
       "              search_query             synonym  \\\n",
       "0  miles from tomorrowland  тыква, банан арбуз   \n",
       "1                 military            милитари   \n",
       "2             milk frother         неприменимо   \n",
       "3                  zenit3d    зенитттт, тестыщ   \n",
       "\n",
       "                                           ab  \n",
       "0  miles from tomorrowland тыква, банан арбуз  \n",
       "1                           military милитари  \n",
       "2                    milk frother неприменимо  \n",
       "3                    zenit3d зенитттт, тестыщ  "
      ]
     },
     "execution_count": 11,
     "metadata": {},
     "output_type": "execute_result"
    }
   ],
   "source": [
    "df.head()"
   ]
  },
  {
   "cell_type": "code",
   "execution_count": 12,
   "metadata": {},
   "outputs": [],
   "source": [
    "#определяем дубли true или false\n",
    "df.drop_duplicates(inplace=True)\n",
    "#df.head()"
   ]
  },
  {
   "cell_type": "code",
   "execution_count": 13,
   "metadata": {
    "scrolled": true
   },
   "outputs": [
    {
     "data": {
      "text/html": [
       "<div>\n",
       "<style scoped>\n",
       "    .dataframe tbody tr th:only-of-type {\n",
       "        vertical-align: middle;\n",
       "    }\n",
       "\n",
       "    .dataframe tbody tr th {\n",
       "        vertical-align: top;\n",
       "    }\n",
       "\n",
       "    .dataframe thead th {\n",
       "        text-align: right;\n",
       "    }\n",
       "</style>\n",
       "<table border=\"1\" class=\"dataframe\">\n",
       "  <thead>\n",
       "    <tr style=\"text-align: right;\">\n",
       "      <th></th>\n",
       "      <th>search_query</th>\n",
       "      <th>synonym</th>\n",
       "    </tr>\n",
       "  </thead>\n",
       "  <tbody>\n",
       "    <tr>\n",
       "      <th>0</th>\n",
       "      <td>miles from tomorrowland</td>\n",
       "      <td>тыква, банан арбуз</td>\n",
       "    </tr>\n",
       "    <tr>\n",
       "      <th>1</th>\n",
       "      <td>military</td>\n",
       "      <td>милитари</td>\n",
       "    </tr>\n",
       "    <tr>\n",
       "      <th>2</th>\n",
       "      <td>milk frother</td>\n",
       "      <td>неприменимо</td>\n",
       "    </tr>\n",
       "    <tr>\n",
       "      <th>3</th>\n",
       "      <td>zenit3d</td>\n",
       "      <td>зенитттт, тестыщ</td>\n",
       "    </tr>\n",
       "  </tbody>\n",
       "</table>\n",
       "</div>"
      ],
      "text/plain": [
       "              search_query             synonym\n",
       "0  miles from tomorrowland  тыква, банан арбуз\n",
       "1                 military            милитари\n",
       "2             milk frother         неприменимо\n",
       "3                  zenit3d    зенитттт, тестыщ"
      ]
     },
     "execution_count": 13,
     "metadata": {},
     "output_type": "execute_result"
    }
   ],
   "source": [
    "df.reset_index(drop=True, inplace = True)\n",
    "del df['ab']\n",
    "df.head()"
   ]
  },
  {
   "cell_type": "code",
   "execution_count": 14,
   "metadata": {},
   "outputs": [
    {
     "name": "stdout",
     "output_type": "stream",
     "text": [
      "Удалено дубликатов: 0\n"
     ]
    }
   ],
   "source": [
    "len2 = len(df.index) #кол-во строк в таблице после удаления дубликатов\n",
    "len3 = len1 - len2\n",
    "print('Удалено дубликатов: '+ str(len3))\n"
   ]
  },
  {
   "cell_type": "markdown",
   "metadata": {},
   "source": [
    "## Добавление синонимов"
   ]
  },
  {
   "cell_type": "code",
   "execution_count": 15,
   "metadata": {
    "scrolled": false
   },
   "outputs": [
    {
     "data": {
      "text/html": [
       "<div>\n",
       "<style scoped>\n",
       "    .dataframe tbody tr th:only-of-type {\n",
       "        vertical-align: middle;\n",
       "    }\n",
       "\n",
       "    .dataframe tbody tr th {\n",
       "        vertical-align: top;\n",
       "    }\n",
       "\n",
       "    .dataframe thead th {\n",
       "        text-align: right;\n",
       "    }\n",
       "</style>\n",
       "<table border=\"1\" class=\"dataframe\">\n",
       "  <thead>\n",
       "    <tr style=\"text-align: right;\">\n",
       "      <th></th>\n",
       "      <th>search_query</th>\n",
       "      <th>new_synonym</th>\n",
       "    </tr>\n",
       "  </thead>\n",
       "  <tbody>\n",
       "    <tr>\n",
       "      <th>0</th>\n",
       "      <td>XYZ Printing</td>\n",
       "      <td>хузпринтинг</td>\n",
       "    </tr>\n",
       "    <tr>\n",
       "      <th>1</th>\n",
       "      <td>X NEXX</td>\n",
       "      <td>икс некс</td>\n",
       "    </tr>\n",
       "    <tr>\n",
       "      <th>2</th>\n",
       "      <td>Yves Rocher</td>\n",
       "      <td>ив роше, ивс рошер</td>\n",
       "    </tr>\n",
       "    <tr>\n",
       "      <th>3</th>\n",
       "      <td>Zenit3D</td>\n",
       "      <td>зенит 3д</td>\n",
       "    </tr>\n",
       "    <tr>\n",
       "      <th>4</th>\n",
       "      <td>Zenith z роль</td>\n",
       "      <td>зенит зе роль</td>\n",
       "    </tr>\n",
       "  </tbody>\n",
       "</table>\n",
       "</div>"
      ],
      "text/plain": [
       "    search_query         new_synonym\n",
       "0   XYZ Printing         хузпринтинг\n",
       "1         X NEXX            икс некс\n",
       "2    Yves Rocher  ив роше, ивс рошер\n",
       "3        Zenit3D            зенит 3д\n",
       "4  Zenith z роль       зенит зе роль"
      ]
     },
     "execution_count": 15,
     "metadata": {},
     "output_type": "execute_result"
    }
   ],
   "source": [
    "df_syn = pd.read_csv(file_new_synonyms, sep =\";\", header = None,  names = [\"search_query\",\"new_synonym\"], encoding='utf-8') #вводим имя файла, который будем преобразовывать и \";\" разделитель\n",
    "df_syn.shape #размерность матрицы\n",
    "df_syn.head() #покажем выборку полученного dataset"
   ]
  },
  {
   "cell_type": "code",
   "execution_count": 16,
   "metadata": {},
   "outputs": [
    {
     "name": "stdout",
     "output_type": "stream",
     "text": [
      "Строк синонимов: 9\n"
     ]
    }
   ],
   "source": [
    "# подготовка файла к обработке\n",
    "len_syn1 = len(df_syn.index)\n",
    "print(f\"Строк синонимов: {len_syn1}\")"
   ]
  },
  {
   "cell_type": "code",
   "execution_count": 17,
   "metadata": {},
   "outputs": [
    {
     "name": "stdout",
     "output_type": "stream",
     "text": [
      "Кол-во пустых синонимов: 0\n"
     ]
    }
   ],
   "source": [
    "# Находим пустые строки (без синонимов, без слов)\n",
    "df_is_null_syn = df_syn['new_synonym'].isnull()\n",
    "df_is_null_syn = df_syn[df_is_null_syn]\n",
    "#NONE_VIN = (df[\"VIN\"].isnull()) | (df[\"VIN\"].apply(lambda x: str(x).isspace()))\n",
    "#df_null =df[NONE_VIN] \n",
    "df_is_null_syn.head(50)\n",
    "cnt_null_syn = len(df_is_null_syn.index)\n",
    "print(f\"Кол-во пустых синонимов: {cnt_null_syn}\")"
   ]
  },
  {
   "cell_type": "code",
   "execution_count": 18,
   "metadata": {},
   "outputs": [
    {
     "name": "stdout",
     "output_type": "stream",
     "text": [
      "Кол-во строк без пустых синонимов: 9\n"
     ]
    }
   ],
   "source": [
    "#Удаляем пустые строки синонимов\n",
    "df11 = df_syn.loc[~df_syn['search_query'].isin(df_is_null_syn['search_query'])]\n",
    "#df11.head()\n",
    "df_syn = df11\n",
    "cnt_null_syn1 = len(df_syn.index)\n",
    "print(f\"Кол-во строк без пустых синонимов: {cnt_null_syn1}\")"
   ]
  },
  {
   "cell_type": "code",
   "execution_count": 19,
   "metadata": {},
   "outputs": [
    {
     "data": {
      "text/html": [
       "<div>\n",
       "<style scoped>\n",
       "    .dataframe tbody tr th:only-of-type {\n",
       "        vertical-align: middle;\n",
       "    }\n",
       "\n",
       "    .dataframe tbody tr th {\n",
       "        vertical-align: top;\n",
       "    }\n",
       "\n",
       "    .dataframe thead th {\n",
       "        text-align: right;\n",
       "    }\n",
       "</style>\n",
       "<table border=\"1\" class=\"dataframe\">\n",
       "  <thead>\n",
       "    <tr style=\"text-align: right;\">\n",
       "      <th></th>\n",
       "      <th>search_query</th>\n",
       "      <th>new_synonym</th>\n",
       "    </tr>\n",
       "  </thead>\n",
       "  <tbody>\n",
       "    <tr>\n",
       "      <th>0</th>\n",
       "      <td>XYZ Printing</td>\n",
       "      <td>хузпринтинг</td>\n",
       "    </tr>\n",
       "    <tr>\n",
       "      <th>1</th>\n",
       "      <td>X NEXX</td>\n",
       "      <td>икс некс</td>\n",
       "    </tr>\n",
       "    <tr>\n",
       "      <th>2</th>\n",
       "      <td>Yves Rocher</td>\n",
       "      <td>ив роше, ивс рошер</td>\n",
       "    </tr>\n",
       "    <tr>\n",
       "      <th>3</th>\n",
       "      <td>Zenit3D</td>\n",
       "      <td>зенит 3д</td>\n",
       "    </tr>\n",
       "    <tr>\n",
       "      <th>4</th>\n",
       "      <td>Zenith z роль</td>\n",
       "      <td>зенит зе роль</td>\n",
       "    </tr>\n",
       "  </tbody>\n",
       "</table>\n",
       "</div>"
      ],
      "text/plain": [
       "    search_query         new_synonym\n",
       "0   XYZ Printing         хузпринтинг\n",
       "1         X NEXX            икс некс\n",
       "2    Yves Rocher  ив роше, ивс рошер\n",
       "3        Zenit3D            зенит 3д\n",
       "4  Zenith z роль       зенит зе роль"
      ]
     },
     "execution_count": 19,
     "metadata": {},
     "output_type": "execute_result"
    }
   ],
   "source": [
    "#разбиваем слитые через заяптую синонимы, на отдельные слова (токены)\n",
    "# df_syn['search_query'].apply(lambda x: str(x).strip(' ').lower()) new_synonym\n",
    "def my_func_token_comma(text):\n",
    "    text_arr = text.split(\",\")\n",
    "    text_arr_2 = []\n",
    "    for i in text_arr:\n",
    "        text_arr_2.append(i.strip())\n",
    "    new_text = \", \".join(text_arr_2)\n",
    "    \n",
    "    return new_text;\n",
    "\n",
    "df_syn['new_synonym'] = df_syn['new_synonym'].apply(lambda x: str(my_func_token_comma(x)))\n",
    "df_syn.head()"
   ]
  },
  {
   "cell_type": "code",
   "execution_count": null,
   "metadata": {},
   "outputs": [],
   "source": []
  },
  {
   "cell_type": "code",
   "execution_count": 20,
   "metadata": {},
   "outputs": [
    {
     "data": {
      "text/html": [
       "<div>\n",
       "<style scoped>\n",
       "    .dataframe tbody tr th:only-of-type {\n",
       "        vertical-align: middle;\n",
       "    }\n",
       "\n",
       "    .dataframe tbody tr th {\n",
       "        vertical-align: top;\n",
       "    }\n",
       "\n",
       "    .dataframe thead th {\n",
       "        text-align: right;\n",
       "    }\n",
       "</style>\n",
       "<table border=\"1\" class=\"dataframe\">\n",
       "  <thead>\n",
       "    <tr style=\"text-align: right;\">\n",
       "      <th></th>\n",
       "      <th>search_query</th>\n",
       "      <th>synonym</th>\n",
       "    </tr>\n",
       "  </thead>\n",
       "  <tbody>\n",
       "    <tr>\n",
       "      <th>0</th>\n",
       "      <td>miles from tomorrowland</td>\n",
       "      <td>тыква, банан арбуз</td>\n",
       "    </tr>\n",
       "    <tr>\n",
       "      <th>1</th>\n",
       "      <td>military</td>\n",
       "      <td>милитари</td>\n",
       "    </tr>\n",
       "    <tr>\n",
       "      <th>2</th>\n",
       "      <td>milk frother</td>\n",
       "      <td>неприменимо</td>\n",
       "    </tr>\n",
       "    <tr>\n",
       "      <th>3</th>\n",
       "      <td>zenit3d</td>\n",
       "      <td>зенитттт, тестыщ</td>\n",
       "    </tr>\n",
       "  </tbody>\n",
       "</table>\n",
       "</div>"
      ],
      "text/plain": [
       "              search_query             synonym\n",
       "0  miles from tomorrowland  тыква, банан арбуз\n",
       "1                 military            милитари\n",
       "2             milk frother         неприменимо\n",
       "3                  zenit3d    зенитттт, тестыщ"
      ]
     },
     "execution_count": 20,
     "metadata": {},
     "output_type": "execute_result"
    }
   ],
   "source": [
    "# sorting by first name \n",
    "df_syn.sort_values(\"search_query\", inplace=True) \n",
    "\n",
    "#объединяем строки\n",
    "df_syn[\"ab\"] = df_syn.search_query + \" \" + df_syn.new_synonym\n",
    "df.head()"
   ]
  },
  {
   "cell_type": "code",
   "execution_count": 21,
   "metadata": {},
   "outputs": [
    {
     "data": {
      "text/html": [
       "<div>\n",
       "<style scoped>\n",
       "    .dataframe tbody tr th:only-of-type {\n",
       "        vertical-align: middle;\n",
       "    }\n",
       "\n",
       "    .dataframe tbody tr th {\n",
       "        vertical-align: top;\n",
       "    }\n",
       "\n",
       "    .dataframe thead th {\n",
       "        text-align: right;\n",
       "    }\n",
       "</style>\n",
       "<table border=\"1\" class=\"dataframe\">\n",
       "  <thead>\n",
       "    <tr style=\"text-align: right;\">\n",
       "      <th></th>\n",
       "      <th>search_query</th>\n",
       "      <th>new_synonym</th>\n",
       "    </tr>\n",
       "  </thead>\n",
       "  <tbody>\n",
       "  </tbody>\n",
       "</table>\n",
       "</div>"
      ],
      "text/plain": [
       "Empty DataFrame\n",
       "Columns: [search_query, new_synonym]\n",
       "Index: []"
      ]
     },
     "execution_count": 21,
     "metadata": {},
     "output_type": "execute_result"
    }
   ],
   "source": [
    "#формируем список дублей которые будут удалены - для отчётности\n",
    "df_syn_dubles = df_syn[df_syn.duplicated(keep=False)]\n",
    "df_syn_dubles.reset_index(drop=True, inplace = True)\n",
    "df_syn_dubles2 = df_syn_dubles.drop_duplicates().copy()\n",
    "df_syn_dubles2.reset_index(drop=True, inplace = True)\n",
    "df_syn_dubles2 = df_syn_dubles2.drop(['ab'], axis=1)\n",
    "df_syn_dubles2.head()"
   ]
  },
  {
   "cell_type": "code",
   "execution_count": null,
   "metadata": {},
   "outputs": [],
   "source": []
  },
  {
   "cell_type": "code",
   "execution_count": 22,
   "metadata": {},
   "outputs": [],
   "source": [
    "#Считаем кол-во дублей\n",
    "#counts_df_syn = df_syn.groupby('ab').size().reset_index(name='counts')\n",
    "#counts_df_syn.head()\n"
   ]
  },
  {
   "cell_type": "code",
   "execution_count": 23,
   "metadata": {},
   "outputs": [],
   "source": [
    "#Формируем таблицу с дублями и их кол-вом\n",
    "#df_syn_filtered_1 = counts_df_syn.query('counts > 1')\n",
    "#df_syn_filtered_1.head(40)"
   ]
  },
  {
   "cell_type": "code",
   "execution_count": 24,
   "metadata": {},
   "outputs": [
    {
     "data": {
      "text/html": [
       "<div>\n",
       "<style scoped>\n",
       "    .dataframe tbody tr th:only-of-type {\n",
       "        vertical-align: middle;\n",
       "    }\n",
       "\n",
       "    .dataframe tbody tr th {\n",
       "        vertical-align: top;\n",
       "    }\n",
       "\n",
       "    .dataframe thead th {\n",
       "        text-align: right;\n",
       "    }\n",
       "</style>\n",
       "<table border=\"1\" class=\"dataframe\">\n",
       "  <thead>\n",
       "    <tr style=\"text-align: right;\">\n",
       "      <th></th>\n",
       "      <th>search_query</th>\n",
       "      <th>new_synonym</th>\n",
       "      <th>ab</th>\n",
       "    </tr>\n",
       "  </thead>\n",
       "  <tbody>\n",
       "    <tr>\n",
       "      <th>0</th>\n",
       "      <td>MIE Romeo</td>\n",
       "      <td>слово</td>\n",
       "      <td>MIE Romeo слово</td>\n",
       "    </tr>\n",
       "    <tr>\n",
       "      <th>1</th>\n",
       "      <td>Virtual Education</td>\n",
       "      <td>виртуалэдьюкейшен, виртуальное образование</td>\n",
       "      <td>Virtual Education виртуалэдьюкейшен, виртуальн...</td>\n",
       "    </tr>\n",
       "    <tr>\n",
       "      <th>2</th>\n",
       "      <td>W-era</td>\n",
       "      <td>ви-ера, в-ера</td>\n",
       "      <td>W-era ви-ера, в-ера</td>\n",
       "    </tr>\n",
       "    <tr>\n",
       "      <th>3</th>\n",
       "      <td>Weraаааа</td>\n",
       "      <td>ви-ера, в-ера</td>\n",
       "      <td>Weraаааа ви-ера, в-ера</td>\n",
       "    </tr>\n",
       "    <tr>\n",
       "      <th>4</th>\n",
       "      <td>X NEXX</td>\n",
       "      <td>икс некс</td>\n",
       "      <td>X NEXX икс некс</td>\n",
       "    </tr>\n",
       "    <tr>\n",
       "      <th>5</th>\n",
       "      <td>XYZ Printing</td>\n",
       "      <td>хузпринтинг</td>\n",
       "      <td>XYZ Printing хузпринтинг</td>\n",
       "    </tr>\n",
       "    <tr>\n",
       "      <th>6</th>\n",
       "      <td>Yves Rocher</td>\n",
       "      <td>ив роше, ивс рошер</td>\n",
       "      <td>Yves Rocher ив роше, ивс рошер</td>\n",
       "    </tr>\n",
       "    <tr>\n",
       "      <th>7</th>\n",
       "      <td>Zenit3D</td>\n",
       "      <td>зенит 3д</td>\n",
       "      <td>Zenit3D зенит 3д</td>\n",
       "    </tr>\n",
       "    <tr>\n",
       "      <th>8</th>\n",
       "      <td>Zenith z роль</td>\n",
       "      <td>зенит зе роль</td>\n",
       "      <td>Zenith z роль зенит зе роль</td>\n",
       "    </tr>\n",
       "  </tbody>\n",
       "</table>\n",
       "</div>"
      ],
      "text/plain": [
       "        search_query                                 new_synonym  \\\n",
       "0          MIE Romeo                                       слово   \n",
       "1  Virtual Education  виртуалэдьюкейшен, виртуальное образование   \n",
       "2              W-era                               ви-ера, в-ера   \n",
       "3           Weraаааа                               ви-ера, в-ера   \n",
       "4             X NEXX                                    икс некс   \n",
       "5       XYZ Printing                                 хузпринтинг   \n",
       "6        Yves Rocher                          ив роше, ивс рошер   \n",
       "7            Zenit3D                                    зенит 3д   \n",
       "8      Zenith z роль                               зенит зе роль   \n",
       "\n",
       "                                                  ab  \n",
       "0                                    MIE Romeo слово  \n",
       "1  Virtual Education виртуалэдьюкейшен, виртуальн...  \n",
       "2                                W-era ви-ера, в-ера  \n",
       "3                             Weraаааа ви-ера, в-ера  \n",
       "4                                    X NEXX икс некс  \n",
       "5                           XYZ Printing хузпринтинг  \n",
       "6                     Yves Rocher ив роше, ивс рошер  \n",
       "7                                   Zenit3D зенит 3д  \n",
       "8                        Zenith z роль зенит зе роль  "
      ]
     },
     "execution_count": 24,
     "metadata": {},
     "output_type": "execute_result"
    }
   ],
   "source": [
    "#определяем дубли и удаляем их\n",
    "df_syn.drop_duplicates(inplace=True)\n",
    "#df.head()\n",
    "df_syn.reset_index(drop=True, inplace = True)\n",
    "df_syn.head(10)"
   ]
  },
  {
   "cell_type": "code",
   "execution_count": 25,
   "metadata": {},
   "outputs": [
    {
     "name": "stdout",
     "output_type": "stream",
     "text": [
      "Удалено дубликатов в синонимах: 0\n"
     ]
    }
   ],
   "source": [
    "len_syn2 = len(df_syn.index) #кол-во строк в таблице после удаления дубликатов\n",
    "len_syn3 = len_syn1 - len_syn2\n",
    "print('Удалено дубликатов в синонимах: '+ str(len_syn3))"
   ]
  },
  {
   "cell_type": "code",
   "execution_count": 26,
   "metadata": {},
   "outputs": [],
   "source": [
    "# Поиск одинаковых слов\n",
    "#for i in range(len(m_arr_search)):\n",
    "#def my_func_search_similar(mf_dataframe): #параметры: таблица\n",
    "#    m_len = len(mf_dataframe.index)\n",
    "    #for i in range(m_len):\n",
    "    \n",
    "        \n",
    "        \n",
    "#    return m_len;\n",
    "\n",
    "#def my_f_q (x):\n",
    "    \n",
    " #   return x;"
   ]
  },
  {
   "cell_type": "code",
   "execution_count": 27,
   "metadata": {},
   "outputs": [
    {
     "data": {
      "text/plain": [
       "search_query    object\n",
       "new_synonym     object\n",
       "ab              object\n",
       "dtype: object"
      ]
     },
     "execution_count": 27,
     "metadata": {},
     "output_type": "execute_result"
    }
   ],
   "source": [
    "df_syn.dtypes #смотрим на типы данных в таблице"
   ]
  },
  {
   "cell_type": "code",
   "execution_count": 28,
   "metadata": {},
   "outputs": [],
   "source": [
    "df_syn['search_query'] = df_syn['search_query'].astype(str)"
   ]
  },
  {
   "cell_type": "code",
   "execution_count": 29,
   "metadata": {},
   "outputs": [
    {
     "data": {
      "text/plain": [
       "search_query    object\n",
       "new_synonym     object\n",
       "ab              object\n",
       "dtype: object"
      ]
     },
     "execution_count": 29,
     "metadata": {},
     "output_type": "execute_result"
    }
   ],
   "source": [
    "df_syn.dtypes"
   ]
  },
  {
   "cell_type": "code",
   "execution_count": 31,
   "metadata": {
    "scrolled": true
   },
   "outputs": [
    {
     "data": {
      "text/html": [
       "<div>\n",
       "<style scoped>\n",
       "    .dataframe tbody tr th:only-of-type {\n",
       "        vertical-align: middle;\n",
       "    }\n",
       "\n",
       "    .dataframe tbody tr th {\n",
       "        vertical-align: top;\n",
       "    }\n",
       "\n",
       "    .dataframe thead th {\n",
       "        text-align: right;\n",
       "    }\n",
       "</style>\n",
       "<table border=\"1\" class=\"dataframe\">\n",
       "  <thead>\n",
       "    <tr style=\"text-align: right;\">\n",
       "      <th></th>\n",
       "      <th>search_query</th>\n",
       "      <th>new_synonym</th>\n",
       "      <th>ab</th>\n",
       "    </tr>\n",
       "  </thead>\n",
       "  <tbody>\n",
       "    <tr>\n",
       "      <th>0</th>\n",
       "      <td>mie romeo</td>\n",
       "      <td>слово</td>\n",
       "      <td>MIE Romeo слово</td>\n",
       "    </tr>\n",
       "    <tr>\n",
       "      <th>1</th>\n",
       "      <td>virtual education</td>\n",
       "      <td>виртуалэдьюкейшен, виртуальное образование</td>\n",
       "      <td>Virtual Education виртуалэдьюкейшен, виртуальн...</td>\n",
       "    </tr>\n",
       "    <tr>\n",
       "      <th>2</th>\n",
       "      <td>w-era</td>\n",
       "      <td>ви-ера, в-ера</td>\n",
       "      <td>W-era ви-ера, в-ера</td>\n",
       "    </tr>\n",
       "    <tr>\n",
       "      <th>3</th>\n",
       "      <td>weraаааа</td>\n",
       "      <td>ви-ера, в-ера</td>\n",
       "      <td>Weraаааа ви-ера, в-ера</td>\n",
       "    </tr>\n",
       "    <tr>\n",
       "      <th>4</th>\n",
       "      <td>x nexx</td>\n",
       "      <td>икс некс</td>\n",
       "      <td>X NEXX икс некс</td>\n",
       "    </tr>\n",
       "    <tr>\n",
       "      <th>5</th>\n",
       "      <td>xyz printing</td>\n",
       "      <td>хузпринтинг</td>\n",
       "      <td>XYZ Printing хузпринтинг</td>\n",
       "    </tr>\n",
       "    <tr>\n",
       "      <th>6</th>\n",
       "      <td>yves rocher</td>\n",
       "      <td>ив роше, ивс рошер</td>\n",
       "      <td>Yves Rocher ив роше, ивс рошер</td>\n",
       "    </tr>\n",
       "    <tr>\n",
       "      <th>7</th>\n",
       "      <td>zenit3d</td>\n",
       "      <td>зенит 3д</td>\n",
       "      <td>Zenit3D зенит 3д</td>\n",
       "    </tr>\n",
       "    <tr>\n",
       "      <th>8</th>\n",
       "      <td>zenith z роль</td>\n",
       "      <td>зенит зе роль</td>\n",
       "      <td>Zenith z роль зенит зе роль</td>\n",
       "    </tr>\n",
       "  </tbody>\n",
       "</table>\n",
       "</div>"
      ],
      "text/plain": [
       "        search_query                                 new_synonym  \\\n",
       "0          mie romeo                                       слово   \n",
       "1  virtual education  виртуалэдьюкейшен, виртуальное образование   \n",
       "2              w-era                               ви-ера, в-ера   \n",
       "3           weraаааа                               ви-ера, в-ера   \n",
       "4             x nexx                                    икс некс   \n",
       "5       xyz printing                                 хузпринтинг   \n",
       "6        yves rocher                          ив роше, ивс рошер   \n",
       "7            zenit3d                                    зенит 3д   \n",
       "8      zenith z роль                               зенит зе роль   \n",
       "\n",
       "                                                  ab  \n",
       "0                                    MIE Romeo слово  \n",
       "1  Virtual Education виртуалэдьюкейшен, виртуальн...  \n",
       "2                                W-era ви-ера, в-ера  \n",
       "3                             Weraаааа ви-ера, в-ера  \n",
       "4                                    X NEXX икс некс  \n",
       "5                           XYZ Printing хузпринтинг  \n",
       "6                     Yves Rocher ив роше, ивс рошер  \n",
       "7                                   Zenit3D зенит 3д  \n",
       "8                        Zenith z роль зенит зе роль  "
      ]
     },
     "execution_count": 31,
     "metadata": {},
     "output_type": "execute_result"
    }
   ],
   "source": [
    "#df_syn['search_query'] = df_syn['search_query'].apply(lambda x: x.str.strip(' ') if x.dtype == \"object\" else x)\n",
    "#удаляем лишние пробелы в каждой ячейке основной фразы (внутри фразы пробелы не удаляются) и переводим в нижний регистр\n",
    "df_syn['search_query'] = df_syn['search_query'].apply(lambda x: str(x).strip(' ').lower())\n",
    "df_syn['search_query'] = df_syn['search_query'].apply(lambda x: re.sub(r'\\s+', ' ', str(x) )) #удаляем лишние пробелы внутри слов\n",
    "df_syn.head(10)"
   ]
  },
  {
   "cell_type": "code",
   "execution_count": null,
   "metadata": {},
   "outputs": [],
   "source": []
  },
  {
   "cell_type": "code",
   "execution_count": 32,
   "metadata": {},
   "outputs": [
    {
     "data": {
      "text/html": [
       "<div>\n",
       "<style scoped>\n",
       "    .dataframe tbody tr th:only-of-type {\n",
       "        vertical-align: middle;\n",
       "    }\n",
       "\n",
       "    .dataframe tbody tr th {\n",
       "        vertical-align: top;\n",
       "    }\n",
       "\n",
       "    .dataframe thead th {\n",
       "        text-align: right;\n",
       "    }\n",
       "</style>\n",
       "<table border=\"1\" class=\"dataframe\">\n",
       "  <thead>\n",
       "    <tr style=\"text-align: right;\">\n",
       "      <th></th>\n",
       "      <th>search_query</th>\n",
       "      <th>new_synonym</th>\n",
       "    </tr>\n",
       "  </thead>\n",
       "  <tbody>\n",
       "  </tbody>\n",
       "</table>\n",
       "</div>"
      ],
      "text/plain": [
       "Empty DataFrame\n",
       "Columns: [search_query, new_synonym]\n",
       "Index: []"
      ]
     },
     "execution_count": 32,
     "metadata": {},
     "output_type": "execute_result"
    }
   ],
   "source": [
    "#формируем список дублей после обработки имени, которые будут удалены - для отчётности\n",
    "df_syn_dubles3 = df_syn[df_syn.duplicated(['search_query'], keep=False)].copy()\n",
    "df_syn_dubles3.reset_index(drop=True, inplace = True)\n",
    "df_syn_dubles3[\"ab\"] = df_syn_dubles3.search_query + \" \" + df_syn_dubles3.new_synonym\n",
    "df_syn_dubles4 = df_syn_dubles3.drop_duplicates().copy()\n",
    "df_syn_dubles4.reset_index(drop=True, inplace = True)\n",
    "df_syn_dubles4 = df_syn_dubles4.drop(['ab'], axis=1)\n",
    "df_syn_dubles4.head(50) #список дублей (после удаления пробелов и приведения к нижнему регистру search_query)"
   ]
  },
  {
   "cell_type": "code",
   "execution_count": 33,
   "metadata": {},
   "outputs": [
    {
     "data": {
      "text/html": [
       "<div>\n",
       "<style scoped>\n",
       "    .dataframe tbody tr th:only-of-type {\n",
       "        vertical-align: middle;\n",
       "    }\n",
       "\n",
       "    .dataframe tbody tr th {\n",
       "        vertical-align: top;\n",
       "    }\n",
       "\n",
       "    .dataframe thead th {\n",
       "        text-align: right;\n",
       "    }\n",
       "</style>\n",
       "<table border=\"1\" class=\"dataframe\">\n",
       "  <thead>\n",
       "    <tr style=\"text-align: right;\">\n",
       "      <th></th>\n",
       "      <th>search_query</th>\n",
       "      <th>new_synonym</th>\n",
       "      <th>ab</th>\n",
       "    </tr>\n",
       "  </thead>\n",
       "  <tbody>\n",
       "  </tbody>\n",
       "</table>\n",
       "</div>"
      ],
      "text/plain": [
       "Empty DataFrame\n",
       "Columns: [search_query, new_synonym, ab]\n",
       "Index: []"
      ]
     },
     "execution_count": 33,
     "metadata": {},
     "output_type": "execute_result"
    }
   ],
   "source": [
    "df_syn_dubles3.head()"
   ]
  },
  {
   "cell_type": "code",
   "execution_count": 34,
   "metadata": {},
   "outputs": [
    {
     "name": "stdout",
     "output_type": "stream",
     "text": [
      "Найдено дубликатов: 0\n"
     ]
    }
   ],
   "source": [
    "len_syn_d3 = len(df_syn_dubles3.index) \n",
    "print(f\"Найдено дубликатов: {len_syn_d3}\")"
   ]
  },
  {
   "cell_type": "code",
   "execution_count": 35,
   "metadata": {},
   "outputs": [
    {
     "data": {
      "text/html": [
       "<div>\n",
       "<style scoped>\n",
       "    .dataframe tbody tr th:only-of-type {\n",
       "        vertical-align: middle;\n",
       "    }\n",
       "\n",
       "    .dataframe tbody tr th {\n",
       "        vertical-align: top;\n",
       "    }\n",
       "\n",
       "    .dataframe thead th {\n",
       "        text-align: right;\n",
       "    }\n",
       "</style>\n",
       "<table border=\"1\" class=\"dataframe\">\n",
       "  <thead>\n",
       "    <tr style=\"text-align: right;\">\n",
       "      <th></th>\n",
       "      <th>search_query</th>\n",
       "      <th>new_synonym</th>\n",
       "    </tr>\n",
       "  </thead>\n",
       "  <tbody>\n",
       "    <tr>\n",
       "      <th>0</th>\n",
       "      <td>mie romeo</td>\n",
       "      <td>слово</td>\n",
       "    </tr>\n",
       "    <tr>\n",
       "      <th>1</th>\n",
       "      <td>virtual education</td>\n",
       "      <td>виртуалэдьюкейшен, виртуальное образование</td>\n",
       "    </tr>\n",
       "    <tr>\n",
       "      <th>2</th>\n",
       "      <td>w-era</td>\n",
       "      <td>ви-ера, в-ера</td>\n",
       "    </tr>\n",
       "    <tr>\n",
       "      <th>3</th>\n",
       "      <td>weraаааа</td>\n",
       "      <td>ви-ера, в-ера</td>\n",
       "    </tr>\n",
       "    <tr>\n",
       "      <th>4</th>\n",
       "      <td>x nexx</td>\n",
       "      <td>икс некс</td>\n",
       "    </tr>\n",
       "  </tbody>\n",
       "</table>\n",
       "</div>"
      ],
      "text/plain": [
       "        search_query                                 new_synonym\n",
       "0          mie romeo                                       слово\n",
       "1  virtual education  виртуалэдьюкейшен, виртуальное образование\n",
       "2              w-era                               ви-ера, в-ера\n",
       "3           weraаааа                               ви-ера, в-ера\n",
       "4             x nexx                                    икс некс"
      ]
     },
     "execution_count": 35,
     "metadata": {},
     "output_type": "execute_result"
    }
   ],
   "source": [
    "#удаляем дубли\n",
    "df_test = df_syn.copy()\n",
    "df_test = df_test.drop(['ab'], axis=1)\n",
    "\n",
    "df_test[\"ab\"] = df_test.search_query + \" \" + df_test.new_synonym\n",
    "df_test = df_test.drop_duplicates(\"ab\")\n",
    "df_test.reset_index(drop=True, inplace = True)\n",
    "df_test = df_test.drop(['ab'], axis=1)\n",
    "\n",
    "df_test.head()"
   ]
  },
  {
   "cell_type": "code",
   "execution_count": 36,
   "metadata": {},
   "outputs": [],
   "source": [
    "# Удаляем поисковые фразы (search_query) содержащие спец символы"
   ]
  },
  {
   "cell_type": "code",
   "execution_count": null,
   "metadata": {},
   "outputs": [],
   "source": []
  },
  {
   "cell_type": "code",
   "execution_count": 37,
   "metadata": {
    "scrolled": true
   },
   "outputs": [
    {
     "data": {
      "text/html": [
       "<div>\n",
       "<style scoped>\n",
       "    .dataframe tbody tr th:only-of-type {\n",
       "        vertical-align: middle;\n",
       "    }\n",
       "\n",
       "    .dataframe tbody tr th {\n",
       "        vertical-align: top;\n",
       "    }\n",
       "\n",
       "    .dataframe thead th {\n",
       "        text-align: right;\n",
       "    }\n",
       "</style>\n",
       "<table border=\"1\" class=\"dataframe\">\n",
       "  <thead>\n",
       "    <tr style=\"text-align: right;\">\n",
       "      <th></th>\n",
       "      <th>search_query</th>\n",
       "      <th>new_synonym</th>\n",
       "      <th>for_del</th>\n",
       "    </tr>\n",
       "  </thead>\n",
       "  <tbody>\n",
       "    <tr>\n",
       "      <th>2</th>\n",
       "      <td>w-era</td>\n",
       "      <td>ви-ера, в-ера</td>\n",
       "      <td>1</td>\n",
       "    </tr>\n",
       "  </tbody>\n",
       "</table>\n",
       "</div>"
      ],
      "text/plain": [
       "  search_query    new_synonym  for_del\n",
       "2        w-era  ви-ера, в-ера        1"
      ]
     },
     "execution_count": 37,
     "metadata": {},
     "output_type": "execute_result"
    }
   ],
   "source": [
    "def f_find_s4del(a):\n",
    "    cnt = 0\n",
    "    list_err = [\".\",\"-\",\"_\",\";\",\"'\",\"&\",\"(\",\")\",\"№\",\"#\"] #список символов которых не должно быть в строке\n",
    "    for el in list_err:\n",
    "        if(str(a).find(el) > 0):\n",
    "            cnt += 1\n",
    "    if cnt > 0: return 1\n",
    "    return 0\n",
    "\n",
    "df13 = df_test\n",
    "df13[\"for_del\"] = df_test['search_query'].apply(lambda x: f_find_s4del(x))\n",
    "df13 = df13[df13['for_del'] == 1]\n",
    "df13.head() #список неправильных синонимов"
   ]
  },
  {
   "cell_type": "code",
   "execution_count": 38,
   "metadata": {},
   "outputs": [
    {
     "name": "stdout",
     "output_type": "stream",
     "text": [
      "Кол-во строк неправильных фраз: 1\n"
     ]
    }
   ],
   "source": [
    "cnt_null_syn4 = len(df13.index)\n",
    "print(f\"Кол-во строк неправильных фраз: {cnt_null_syn4}\")"
   ]
  },
  {
   "cell_type": "code",
   "execution_count": 40,
   "metadata": {
    "scrolled": true
   },
   "outputs": [
    {
     "data": {
      "text/html": [
       "<div>\n",
       "<style scoped>\n",
       "    .dataframe tbody tr th:only-of-type {\n",
       "        vertical-align: middle;\n",
       "    }\n",
       "\n",
       "    .dataframe tbody tr th {\n",
       "        vertical-align: top;\n",
       "    }\n",
       "\n",
       "    .dataframe thead th {\n",
       "        text-align: right;\n",
       "    }\n",
       "</style>\n",
       "<table border=\"1\" class=\"dataframe\">\n",
       "  <thead>\n",
       "    <tr style=\"text-align: right;\">\n",
       "      <th></th>\n",
       "      <th>search_query</th>\n",
       "      <th>new_synonym</th>\n",
       "      <th>for_del</th>\n",
       "    </tr>\n",
       "  </thead>\n",
       "  <tbody>\n",
       "    <tr>\n",
       "      <th>0</th>\n",
       "      <td>mie romeo</td>\n",
       "      <td>слово</td>\n",
       "      <td>0</td>\n",
       "    </tr>\n",
       "    <tr>\n",
       "      <th>1</th>\n",
       "      <td>virtual education</td>\n",
       "      <td>виртуалэдьюкейшен, виртуальное образование</td>\n",
       "      <td>0</td>\n",
       "    </tr>\n",
       "    <tr>\n",
       "      <th>2</th>\n",
       "      <td>w-era</td>\n",
       "      <td>ви-ера, в-ера</td>\n",
       "      <td>1</td>\n",
       "    </tr>\n",
       "    <tr>\n",
       "      <th>3</th>\n",
       "      <td>weraаааа</td>\n",
       "      <td>ви-ера, в-ера</td>\n",
       "      <td>0</td>\n",
       "    </tr>\n",
       "    <tr>\n",
       "      <th>4</th>\n",
       "      <td>x nexx</td>\n",
       "      <td>икс некс</td>\n",
       "      <td>0</td>\n",
       "    </tr>\n",
       "    <tr>\n",
       "      <th>5</th>\n",
       "      <td>xyz printing</td>\n",
       "      <td>хузпринтинг</td>\n",
       "      <td>0</td>\n",
       "    </tr>\n",
       "    <tr>\n",
       "      <th>6</th>\n",
       "      <td>yves rocher</td>\n",
       "      <td>ив роше, ивс рошер</td>\n",
       "      <td>0</td>\n",
       "    </tr>\n",
       "    <tr>\n",
       "      <th>7</th>\n",
       "      <td>zenit3d</td>\n",
       "      <td>зенит 3д</td>\n",
       "      <td>0</td>\n",
       "    </tr>\n",
       "    <tr>\n",
       "      <th>8</th>\n",
       "      <td>zenith z роль</td>\n",
       "      <td>зенит зе роль</td>\n",
       "      <td>0</td>\n",
       "    </tr>\n",
       "  </tbody>\n",
       "</table>\n",
       "</div>"
      ],
      "text/plain": [
       "        search_query                                 new_synonym  for_del\n",
       "0          mie romeo                                       слово        0\n",
       "1  virtual education  виртуалэдьюкейшен, виртуальное образование        0\n",
       "2              w-era                               ви-ера, в-ера        1\n",
       "3           weraаааа                               ви-ера, в-ера        0\n",
       "4             x nexx                                    икс некс        0\n",
       "5       xyz printing                                 хузпринтинг        0\n",
       "6        yves rocher                          ив роше, ивс рошер        0\n",
       "7            zenit3d                                    зенит 3д        0\n",
       "8      zenith z роль                               зенит зе роль        0"
      ]
     },
     "execution_count": 40,
     "metadata": {},
     "output_type": "execute_result"
    }
   ],
   "source": [
    "df_test"
   ]
  },
  {
   "cell_type": "code",
   "execution_count": 41,
   "metadata": {},
   "outputs": [
    {
     "name": "stdout",
     "output_type": "stream",
     "text": [
      "Кол-во строк без неправильных синонимов: 8\n"
     ]
    }
   ],
   "source": [
    "#Удаляем пустые строки синонимов\n",
    "df14 = df_test.copy()\n",
    "df14 = df14.loc[~df14['search_query'].isin(df13['search_query'])]\n",
    "cnt_null_syn5 = len(df14.index)\n",
    "print(f\"Кол-во строк без неправильных синонимов: {cnt_null_syn5}\")"
   ]
  },
  {
   "cell_type": "code",
   "execution_count": 42,
   "metadata": {},
   "outputs": [
    {
     "data": {
      "text/html": [
       "<div>\n",
       "<style scoped>\n",
       "    .dataframe tbody tr th:only-of-type {\n",
       "        vertical-align: middle;\n",
       "    }\n",
       "\n",
       "    .dataframe tbody tr th {\n",
       "        vertical-align: top;\n",
       "    }\n",
       "\n",
       "    .dataframe thead th {\n",
       "        text-align: right;\n",
       "    }\n",
       "</style>\n",
       "<table border=\"1\" class=\"dataframe\">\n",
       "  <thead>\n",
       "    <tr style=\"text-align: right;\">\n",
       "      <th></th>\n",
       "      <th>search_query</th>\n",
       "      <th>new_synonym</th>\n",
       "    </tr>\n",
       "  </thead>\n",
       "  <tbody>\n",
       "    <tr>\n",
       "      <th>0</th>\n",
       "      <td>mie romeo</td>\n",
       "      <td>слово</td>\n",
       "    </tr>\n",
       "    <tr>\n",
       "      <th>1</th>\n",
       "      <td>virtual education</td>\n",
       "      <td>виртуалэдьюкейшен, виртуальное образование</td>\n",
       "    </tr>\n",
       "    <tr>\n",
       "      <th>3</th>\n",
       "      <td>weraаааа</td>\n",
       "      <td>ви-ера, в-ера</td>\n",
       "    </tr>\n",
       "    <tr>\n",
       "      <th>4</th>\n",
       "      <td>x nexx</td>\n",
       "      <td>икс некс</td>\n",
       "    </tr>\n",
       "    <tr>\n",
       "      <th>5</th>\n",
       "      <td>xyz printing</td>\n",
       "      <td>хузпринтинг</td>\n",
       "    </tr>\n",
       "  </tbody>\n",
       "</table>\n",
       "</div>"
      ],
      "text/plain": [
       "        search_query                                 new_synonym\n",
       "0          mie romeo                                       слово\n",
       "1  virtual education  виртуалэдьюкейшен, виртуальное образование\n",
       "3           weraаааа                               ви-ера, в-ера\n",
       "4             x nexx                                    икс некс\n",
       "5       xyz printing                                 хузпринтинг"
      ]
     },
     "execution_count": 42,
     "metadata": {},
     "output_type": "execute_result"
    }
   ],
   "source": [
    "df_test = df14.drop(['for_del'], axis=1)\n",
    "df_test.head()"
   ]
  },
  {
   "cell_type": "code",
   "execution_count": 43,
   "metadata": {},
   "outputs": [
    {
     "name": "stdout",
     "output_type": "stream",
     "text": [
      "0    литр нитр, л, лkk., лr., la.g festa, синоним а...\n",
      "1                                           лkk.,  лr.\n",
      "dtype: object\n"
     ]
    }
   ],
   "source": [
    "#Пройтись по таблице и найти повторяющиеся синонимы (дубли) и подготовить стандартизивонный список синонимов\n",
    "\n",
    "#m_a = \"new word1\"\n",
    "#m_b = \" syn1, new word1, syn2,   syn   2, new word1, new    word1, syn3, new word1, new       word1\"\n",
    "#m_a = \"unnika land\"\n",
    "#m_b = \"unnika land, синон.им    аа/.+, иии ффф, unnika land, аника ланд, уника ленд, unnika land\"\n",
    "m_a = \"литр нитр\"\n",
    "m_b = \"л, лkk., лr., la.g festa., синоним аа, иии ффф, иии ффф.  , иии фф*ф, unnika land, , , аника ланд, уника ленд, unnika land, , , \"\n",
    "\n",
    "\n",
    "def my_func_del_dubl(list_a):\n",
    "    list_not_dubl = []    \n",
    "    for i in list_a:    \n",
    "        if not i in list_not_dubl:  \n",
    "            list_not_dubl.append(i)\n",
    "    \n",
    "    return list_not_dubl\n",
    "\n",
    "\n",
    "def my_func_search_similar(a, b, is_synonyms):\n",
    "    \n",
    "    \n",
    "    \n",
    "    a = str(a)\n",
    "    #if a == \"unit\": print(\"ok\")\n",
    "    a = re.sub(r'\\s+', ' ', a)\n",
    "    a = a.strip(' ,')\n",
    "    \n",
    "\n",
    "    b = re.sub(r'\\s+', ' ', str(b)) #удаляем из строки лишние пробелы\n",
    "    b = b.split(', ') # разделяем строку на элементы и формируем список\n",
    "    \n",
    "    #удаляем повторяющиеся строки (синонимы)\n",
    "    #new_b = set(b) #перобразуем в список в множество, в множестве могут быть только уникальные значения\n",
    "    #new_b = list(new_b) #формируем списко обратно\n",
    "    \n",
    "    \n",
    "    new_b = my_func_del_dubl(b)\n",
    "    \n",
    "    m_find = 0\n",
    "    m_find_position = []\n",
    "    m_find_empty = 0\n",
    "    m_warning = []\n",
    "    m_cnt_warning = 0\n",
    "    \n",
    "    #Зачищаем от спец символов\n",
    "    for i in range(len(new_b)):\n",
    "        new_b[i] = new_b[i].strip(' ,') #удалаяем лишние символы: \" \" и \",\" в начале и в конце строки и в середине\n",
    "        #Убираем спец символы. \n",
    "        #Нельзя убирать спецсимволы: - + & / . !\n",
    "        new_b[i] = new_b[i].replace('%','').replace('$','').replace('@','').replace('*','')\n",
    "        #удаляем точку в начале и конце синонима, если его длинна больше 5 символов\n",
    "        if (len(new_b[i]) > 5):\n",
    "            new_b[i] = new_b[i].strip('.')\n",
    "            #fff = str(new_b[i])\n",
    "            #print(fff)\n",
    "        \n",
    "        \n",
    "        #проверяем синонимы на наличие лишних точек в словах и если нужно то удаляем вручную из CSV файла\n",
    "        if (is_synonyms == 1 and (len(new_b[i]) < 6)):\n",
    "            if(new_b[i].find(\".\") > 0):\n",
    "                #print(\"[Warning] Синоним с точкой: \" + str(new_b[i]))\n",
    "                #m_warning.append(\"[Warning] Синоним с точкой: \" + str(new_b[i])) \n",
    "                m_warning.append(\" \" + str(new_b[i]))\n",
    "                m_cnt_warning =+1\n",
    "                #print(m_warning)\n",
    "\n",
    "    \n",
    "    #Удаляем дубли после обработки\n",
    "    new_b = my_func_del_dubl(new_b)\n",
    "\n",
    "    #Формируем новый список без пустых значений\n",
    "    new_list = []\n",
    "    for i in range(len(new_b)):\n",
    "        if (new_b[i] != ''): #ищем пустые синонимы в списке\n",
    "            new_list.append(new_b[i])  \n",
    "    new_b = new_list\n",
    "    \n",
    "    #Ищем позицию где есть совпадение\n",
    "    for i in range(len(new_b)):\n",
    "        if (a == new_b[i]): #ищем\n",
    "            m_find = m_find + 1\n",
    "            m_find_position.append(i)\n",
    "                \n",
    "    \n",
    "    if m_find == 0: #не нашли синоним, добавляем в начало списка\n",
    "        empty_list = []\n",
    "        empty_list.append(a) \n",
    "        new_b = empty_list + new_b\n",
    "      \n",
    "    cnt = 0\n",
    "    if m_find > 0:\n",
    "        for i in range(len(m_find_position)):\n",
    "            m_find_position[i] = m_find_position[i] - cnt\n",
    "            del new_b[m_find_position[i]] #удаляем синоним из списка\n",
    "            cnt = cnt + 1\n",
    "            \n",
    "        empty_list = []\n",
    "        empty_list.append(a) #добавляем синоним в начало списка\n",
    "        new_b = empty_list + new_b\n",
    "    \n",
    "    \n",
    "    \n",
    "    #print(\"\\n\\nСтарая строка: \"+str(b))    \n",
    "    #print(\"Новая строка:  \"+str(new_b))\n",
    "    #print(\"Найдено совподений c запросом:  \"+str(m_find))\n",
    "    listToStr = ', '.join(map(str, new_b)) #отдаем строку\n",
    "    \n",
    "    m_warning1 = ', '.join(map(str, m_warning))\n",
    "    \n",
    "    \n",
    "    #return a, listToStr;\n",
    "    #print(a)\n",
    "    #print(listToStr)\n",
    "    if(is_synonyms == 1):\n",
    "        #return pd.Series((listToStr, m_warning1))\n",
    "        return pd.Series((listToStr,  m_warning1))\n",
    "    \n",
    "    return listToStr;\n",
    "    \n",
    "    #return a, new_b;\n",
    "\n",
    "\n",
    "print(my_func_search_similar(m_a,m_b, 1))"
   ]
  },
  {
   "cell_type": "code",
   "execution_count": 44,
   "metadata": {},
   "outputs": [],
   "source": [
    "#Уделаение дублей\n",
    "#list1 = ['b','c','d','b','c','a','a']    \n",
    "#list2 = []    \n",
    "#for i in list1:    \n",
    "#    if not i in list2:  \n",
    "#        list2.append(i)    \n",
    "#print(list2)\n",
    "\n",
    "#d = {\"price\":pd.Series([1, 2, 3], index=['v1', 'v2', 'v3']), \"count\": pd.Series([10, 12, 7], index=['v1', 'v2', 'v3'])}\n",
    "#d = {\"price\":pd.Series([1, 2, 3]), \"count\": pd.Series([10, 12, 7])}\n",
    "#d = {\"price\":pd.Series([\"1\"]), \"count\": pd.Series([\"2\"])}\n",
    "#df1 = pd.DataFrame(d)\n",
    "#df1 = pd.DataFrame({\"price\":pd.Series([\"1\"]), \"count\": pd.Series([\"2\"])})\n",
    "#df1.head()"
   ]
  },
  {
   "cell_type": "code",
   "execution_count": 45,
   "metadata": {},
   "outputs": [
    {
     "data": {
      "text/html": [
       "<div>\n",
       "<style scoped>\n",
       "    .dataframe tbody tr th:only-of-type {\n",
       "        vertical-align: middle;\n",
       "    }\n",
       "\n",
       "    .dataframe tbody tr th {\n",
       "        vertical-align: top;\n",
       "    }\n",
       "\n",
       "    .dataframe thead th {\n",
       "        text-align: right;\n",
       "    }\n",
       "</style>\n",
       "<table border=\"1\" class=\"dataframe\">\n",
       "  <thead>\n",
       "    <tr style=\"text-align: right;\">\n",
       "      <th></th>\n",
       "      <th>search_query</th>\n",
       "      <th>new_synonym</th>\n",
       "    </tr>\n",
       "  </thead>\n",
       "  <tbody>\n",
       "    <tr>\n",
       "      <th>0</th>\n",
       "      <td>mie romeo</td>\n",
       "      <td>слово</td>\n",
       "    </tr>\n",
       "    <tr>\n",
       "      <th>1</th>\n",
       "      <td>virtual education</td>\n",
       "      <td>виртуалэдьюкейшен, виртуальное образование</td>\n",
       "    </tr>\n",
       "    <tr>\n",
       "      <th>3</th>\n",
       "      <td>weraаааа</td>\n",
       "      <td>ви-ера, в-ера</td>\n",
       "    </tr>\n",
       "    <tr>\n",
       "      <th>4</th>\n",
       "      <td>x nexx</td>\n",
       "      <td>икс некс</td>\n",
       "    </tr>\n",
       "    <tr>\n",
       "      <th>5</th>\n",
       "      <td>xyz printing</td>\n",
       "      <td>хузпринтинг</td>\n",
       "    </tr>\n",
       "  </tbody>\n",
       "</table>\n",
       "</div>"
      ],
      "text/plain": [
       "        search_query                                 new_synonym\n",
       "0          mie romeo                                       слово\n",
       "1  virtual education  виртуалэдьюкейшен, виртуальное образование\n",
       "3           weraаааа                               ви-ера, в-ера\n",
       "4             x nexx                                    икс некс\n",
       "5       xyz printing                                 хузпринтинг"
      ]
     },
     "execution_count": 45,
     "metadata": {},
     "output_type": "execute_result"
    }
   ],
   "source": [
    "df_test.head()"
   ]
  },
  {
   "cell_type": "code",
   "execution_count": null,
   "metadata": {},
   "outputs": [],
   "source": []
  },
  {
   "cell_type": "code",
   "execution_count": 46,
   "metadata": {},
   "outputs": [],
   "source": [
    "#df_test['t1'] = df_test.apply(lambda x: my_func_search_similar(x['search_query'], x['new_synonym']), axis=1)\n",
    "df_test[['new_synonym', 'erros']] = df_test.apply(lambda x: my_func_search_similar(x['search_query'], x['new_synonym'], 1), axis=1)\n",
    "#df_test.apply(lambda x: my_func(x['new_synonym'], 1), axis=1)"
   ]
  },
  {
   "cell_type": "code",
   "execution_count": 47,
   "metadata": {
    "scrolled": true
   },
   "outputs": [
    {
     "data": {
      "text/html": [
       "<div>\n",
       "<style scoped>\n",
       "    .dataframe tbody tr th:only-of-type {\n",
       "        vertical-align: middle;\n",
       "    }\n",
       "\n",
       "    .dataframe tbody tr th {\n",
       "        vertical-align: top;\n",
       "    }\n",
       "\n",
       "    .dataframe thead th {\n",
       "        text-align: right;\n",
       "    }\n",
       "</style>\n",
       "<table border=\"1\" class=\"dataframe\">\n",
       "  <thead>\n",
       "    <tr style=\"text-align: right;\">\n",
       "      <th></th>\n",
       "      <th>search_query</th>\n",
       "      <th>new_synonym</th>\n",
       "      <th>erros</th>\n",
       "    </tr>\n",
       "  </thead>\n",
       "  <tbody>\n",
       "    <tr>\n",
       "      <th>0</th>\n",
       "      <td>mie romeo</td>\n",
       "      <td>mie romeo, слово</td>\n",
       "      <td></td>\n",
       "    </tr>\n",
       "    <tr>\n",
       "      <th>1</th>\n",
       "      <td>virtual education</td>\n",
       "      <td>virtual education, виртуалэдьюкейшен, виртуаль...</td>\n",
       "      <td></td>\n",
       "    </tr>\n",
       "    <tr>\n",
       "      <th>3</th>\n",
       "      <td>weraаааа</td>\n",
       "      <td>weraаааа, ви-ера, в-ера</td>\n",
       "      <td></td>\n",
       "    </tr>\n",
       "    <tr>\n",
       "      <th>4</th>\n",
       "      <td>x nexx</td>\n",
       "      <td>x nexx, икс некс</td>\n",
       "      <td></td>\n",
       "    </tr>\n",
       "    <tr>\n",
       "      <th>5</th>\n",
       "      <td>xyz printing</td>\n",
       "      <td>xyz printing, хузпринтинг</td>\n",
       "      <td></td>\n",
       "    </tr>\n",
       "    <tr>\n",
       "      <th>6</th>\n",
       "      <td>yves rocher</td>\n",
       "      <td>yves rocher, ив роше, ивс рошер</td>\n",
       "      <td></td>\n",
       "    </tr>\n",
       "    <tr>\n",
       "      <th>7</th>\n",
       "      <td>zenit3d</td>\n",
       "      <td>zenit3d, зенит 3д</td>\n",
       "      <td></td>\n",
       "    </tr>\n",
       "    <tr>\n",
       "      <th>8</th>\n",
       "      <td>zenith z роль</td>\n",
       "      <td>zenith z роль, зенит зе роль</td>\n",
       "      <td></td>\n",
       "    </tr>\n",
       "  </tbody>\n",
       "</table>\n",
       "</div>"
      ],
      "text/plain": [
       "        search_query                                        new_synonym erros\n",
       "0          mie romeo                                   mie romeo, слово      \n",
       "1  virtual education  virtual education, виртуалэдьюкейшен, виртуаль...      \n",
       "3           weraаааа                            weraаааа, ви-ера, в-ера      \n",
       "4             x nexx                                   x nexx, икс некс      \n",
       "5       xyz printing                          xyz printing, хузпринтинг      \n",
       "6        yves rocher                    yves rocher, ив роше, ивс рошер      \n",
       "7            zenit3d                                  zenit3d, зенит 3д      \n",
       "8      zenith z роль                       zenith z роль, зенит зе роль      "
      ]
     },
     "execution_count": 47,
     "metadata": {},
     "output_type": "execute_result"
    }
   ],
   "source": [
    "df_test.head(20) #Получили таблицу с правильными синонимами, почищенными от дублей внутри и нормализованной для обработки"
   ]
  },
  {
   "cell_type": "code",
   "execution_count": 66,
   "metadata": {},
   "outputs": [
    {
     "name": "stdout",
     "output_type": "stream",
     "text": [
      "хузпринтинг, 21313\n"
     ]
    }
   ],
   "source": [
    "#!!!Этот блок в разработке!!!\n",
    "#Проверяем синонимы на фразы и корректность их применения\n",
    "m_a = \"xyz printing\"\n",
    "m_b = \"xyz printing, хузпринтинг, 21313\"\n",
    "def my_func_del_autofrases(a, b): #удаляем фразу если она есть в синонимах\n",
    "    a = str(a)\n",
    "    a_arr = a.split(' ')\n",
    "    b = str(b).split(', ')\n",
    "    #определяем фраза это или однословный токен\n",
    "    new_b = []\n",
    "    if(len(a_arr) > 1): #если фраза состоит из 2х и более слов, то удаляем её из синонимов\n",
    "        for i in range(len(b)):\n",
    "            if a != b[i]:\n",
    "                new_b.append(b[i])\n",
    "            #print(b[i])\n",
    "    \n",
    "    \n",
    "    listToStr = ', '.join(map(str, new_b)) #отдаем строку\n",
    "    return listToStr;\n",
    "\n",
    "print(my_func_del_autofrases(m_a, m_b))\n"
   ]
  },
  {
   "cell_type": "code",
   "execution_count": null,
   "metadata": {},
   "outputs": [],
   "source": [
    "#Формируем дата фрейм с ошибками и удаляем лишний столбец\n",
    "df_erros_synomyms = df_test[df_test['erros'] != \"\"]\n",
    "df_erros_synomyms.reset_index(inplace=True) #Переиндексируем\n",
    "df_erros_synomyms.head(20)"
   ]
  },
  {
   "cell_type": "code",
   "execution_count": null,
   "metadata": {},
   "outputs": [],
   "source": [
    "df_test.drop('erros', axis=1, inplace=True) #удаляем из столбца лишнию информацию"
   ]
  },
  {
   "cell_type": "markdown",
   "metadata": {},
   "source": []
  },
  {
   "cell_type": "code",
   "execution_count": null,
   "metadata": {},
   "outputs": [],
   "source": []
  },
  {
   "cell_type": "markdown",
   "metadata": {},
   "source": [
    "# Готовим данные для сортировки"
   ]
  },
  {
   "cell_type": "code",
   "execution_count": null,
   "metadata": {},
   "outputs": [],
   "source": [
    "df_test = df_test.rename(columns={'new_synonym': 'synonym'})\n",
    "df_test['list'] = 2 # 2 это новый список синонимов / 1 это старый список синонимов\n",
    "df_test.head(5)"
   ]
  },
  {
   "cell_type": "code",
   "execution_count": null,
   "metadata": {},
   "outputs": [],
   "source": [
    "df['list'] = 1\n",
    "#df.head(5)"
   ]
  },
  {
   "cell_type": "markdown",
   "metadata": {},
   "source": []
  },
  {
   "cell_type": "code",
   "execution_count": null,
   "metadata": {},
   "outputs": [],
   "source": []
  },
  {
   "cell_type": "code",
   "execution_count": null,
   "metadata": {},
   "outputs": [],
   "source": [
    "\n"
   ]
  },
  {
   "cell_type": "markdown",
   "metadata": {},
   "source": [
    "## Объединение старых синонимов с новым списком синонимов"
   ]
  },
  {
   "cell_type": "code",
   "execution_count": null,
   "metadata": {},
   "outputs": [],
   "source": [
    "\n",
    "df_newlist = pd.concat([df, df_test], ignore_index=True)"
   ]
  },
  {
   "cell_type": "code",
   "execution_count": null,
   "metadata": {
    "scrolled": true
   },
   "outputs": [],
   "source": [
    "df_newlist.head(10)"
   ]
  },
  {
   "cell_type": "code",
   "execution_count": null,
   "metadata": {},
   "outputs": [],
   "source": [
    "#сохраняем файл с добаленными синонимами\n",
    "time_now = datetime.datetime.now()\n",
    "t1 = time_now.strftime(\"%Y-%m-%d %I-%M%p\")\n",
    "file_name =\"синонимы для добавления после обработки \" + t1\n",
    "writer = pd.ExcelWriter(file_name + '.xlsx')\n",
    "df_test.to_excel(writer, f\"{t1}\" )\n",
    "writer.save()\n",
    "#df_test.to_csv(\"тест_синонимы\", sep=';', encoding='utf-8', index=True, header=False) #проверяем выгрузку\n",
    "#df_newlist.to_csv(\"тест\", sep=';', encoding='utf-8', index=True, header=False) #проверяем выгрузку"
   ]
  },
  {
   "cell_type": "code",
   "execution_count": null,
   "metadata": {},
   "outputs": [],
   "source": [
    "#проверка на наличие пустых значений\n",
    "\n"
   ]
  },
  {
   "cell_type": "code",
   "execution_count": null,
   "metadata": {},
   "outputs": [],
   "source": [
    "#df_newlist = df_newlist.groupby('search_query').agg(synonym=('synonym', ', '.join))\n",
    "#df_newlist.to_csv(\"тест2\", sep=';', encoding='utf-8', index=True, header=False) #проверяем выгрузку\n",
    "#df_newlist = df_newlist.groupby(['list','search_query']).agg(synonym=('synonym', ', '.join))\n",
    "df_newlist = df_newlist.groupby('search_query').agg(synonym=('synonym', ', '.join))\n",
    "#df_newlist.to_csv(\"тест2\", sep=';', encoding='utf-8', index=True, header=False) #проверяем выгрузку\n",
    "df_newlist.head(10)"
   ]
  },
  {
   "cell_type": "code",
   "execution_count": null,
   "metadata": {},
   "outputs": [],
   "source": [
    "md2 = {\"search_query\":np.array([\"abat\", \"ntcn\", \"test\"]), #создаём тестовый набор данных для проверки алгоритма\n",
    "       \"synonym\": np.array([\"nhj, njn\", 12, 7])}\n",
    "mdf2 = pd.DataFrame(md2, index=['0', '1', '2'])\n",
    "print(mdf2)"
   ]
  },
  {
   "cell_type": "code",
   "execution_count": null,
   "metadata": {},
   "outputs": [],
   "source": [
    "print(df_test)"
   ]
  },
  {
   "cell_type": "code",
   "execution_count": null,
   "metadata": {},
   "outputs": [],
   "source": [
    "\"\"\"\n",
    "df_new_tab = df\n",
    "len_group1 = len(df.index)\n",
    "len_group2 = len(df_test.index)\n",
    "m_cnt_find_dubles = 0 #метрика для подсчёта дублей\n",
    "m_x = len(mdf2.index)\n",
    "i = 0\n",
    "while i < 3:\n",
    "#    df_test.iloc[1, df.columns.get_loc('search_query')]\n",
    "    #m_name_sq = df.iloc[i, df.columns.get_loc('search_query')]\n",
    "    #m_name_sq = \"1-day acuvue trueye\"\n",
    "    m_name_sq = mdf2.iloc[i, df.columns.get_loc('search_query')]\n",
    "    print(m_name_sq)\n",
    "    i2 = 0\n",
    "    while i2 < 3:\n",
    "        #print(df_test.iloc[i2, df.columns.get_loc('search_query')])\n",
    "        m_name_sq2 = df_test.iloc[i2, df.columns.get_loc('search_query')] #синонимы\n",
    "        if (str(m_name_sq2) == str(m_name_sq)):\n",
    "            #print(\"нашел\")\n",
    "            \n",
    "            \n",
    "            \n",
    "            print(df_test.iloc[i2, df.columns.get_loc('search_query')])\n",
    "            m_cnt_find_dubles +=1\n",
    "            \n",
    "        #print(\"\\n str2 \"+str(m_name_sq2))\n",
    "        #print(\"\\n str1 \"+str(m_name_sq))\n",
    "        \n",
    "        \n",
    "        \n",
    "        i2 += 1\n",
    "    #добавляем строку в конец таблицы\n",
    "    m_x += 1\n",
    "    mdf2.loc[m_x] = {\"search_query\": \"1\", \"synonym\": \"2\"} #создаём тестовый набор данных для проверки алгоритма \n",
    "    i += 1\n",
    "\n",
    "    \n",
    "print(m_cnt_find_dubles)\n",
    "\"\"\""
   ]
  },
  {
   "cell_type": "code",
   "execution_count": null,
   "metadata": {},
   "outputs": [],
   "source": [
    "#mdf2.head(6)"
   ]
  },
  {
   "cell_type": "code",
   "execution_count": null,
   "metadata": {},
   "outputs": [],
   "source": [
    "#df_test.drop('erros', axis=1, inplace=True) #удаляем из столбца лишнию информацию\n",
    "df_newlist.reset_index(inplace = True)\n",
    "df_newlist.to_csv(\"тест3\", sep=';', encoding='utf-8', index=True, header=False) #проверяем выгрузку\n",
    "df_newlist.head(10)"
   ]
  },
  {
   "cell_type": "code",
   "execution_count": null,
   "metadata": {},
   "outputs": [],
   "source": [
    "df_newlist['synonym'] = df_newlist.apply(lambda x: my_func_search_similar(x['search_query'], x['synonym'], 0), axis=1)"
   ]
  },
  {
   "cell_type": "code",
   "execution_count": null,
   "metadata": {},
   "outputs": [],
   "source": [
    "df_newlist.head(10)"
   ]
  },
  {
   "cell_type": "code",
   "execution_count": null,
   "metadata": {},
   "outputs": [],
   "source": [
    "#Сохраняем результаты обработки в csv файл\n",
    "time_now = datetime.datetime.now()\n",
    "file_name = \"old and add new synonyms \" + time_now.strftime(\"%Y-%m-%d %I-%M%p\") + \".csv\"\n",
    "df_newlist.to_csv(file_name, sep=';', encoding='utf-8', index=False, header=False) "
   ]
  },
  {
   "cell_type": "code",
   "execution_count": null,
   "metadata": {
    "scrolled": false
   },
   "outputs": [],
   "source": [
    "print(\"Файл создан успешно: \" + file_name)\n",
    "\n",
    "count_old_syn = len(df.index) #кол-во строк в таблице синонимов\n",
    "count_add_syn = len(df_test.index) #кол-во строк в таблице синонимов для добавления\n",
    "count_new_syn = len(df_newlist.index) #кол-во строк в таблице синонимов после объединения\n",
    "len4 = count_new_syn - count_old_syn\n",
    "print('\\n\\nКол-во синонимов было: '+ str(count_old_syn))\n",
    "print('Кол-во синонимов для добавления (без дублей): '+ str(count_add_syn))\n",
    "print('Новых синонимов добавлено: '+ str(len4))\n",
    "print('Кол-во уже существующих синонимов, обновлено: '+ str(count_add_syn - len4))\n",
    "print('Всего синонимов '+ str(count_old_syn + len4))\n",
    "\n",
    "cnt_err = len(df_erros_synomyms.index)\n",
    "\n",
    "print('\\n\\nКол-во возможных ошибок в синонимах: ' + str(cnt_err))\n",
    "df_erros_synomyms.head(10)"
   ]
  },
  {
   "cell_type": "code",
   "execution_count": null,
   "metadata": {},
   "outputs": [],
   "source": [
    "file_name = \"report \" + time_now.strftime(\"%Y-%m-%d %I-%M%p\")\n",
    "writer = pd.ExcelWriter(file_name + '.xlsx')\n",
    "\n",
    "df_syn_dubles2.to_excel(writer, \"Дубли\")\n",
    "df_syn_dubles4.to_excel(writer, \"Дубли после обработки\")\n",
    "df13.to_excel(writer, \"Неправльные синонимы\") #список неправильных синонимов\n",
    "df_is_null_syn.to_excel(writer, \"Пустые синонимы\")\n",
    "\n",
    "writer.save()"
   ]
  },
  {
   "cell_type": "code",
   "execution_count": null,
   "metadata": {},
   "outputs": [],
   "source": []
  },
  {
   "cell_type": "code",
   "execution_count": null,
   "metadata": {},
   "outputs": [],
   "source": []
  },
  {
   "cell_type": "code",
   "execution_count": null,
   "metadata": {},
   "outputs": [],
   "source": []
  }
 ],
 "metadata": {
  "kernelspec": {
   "display_name": "Python 3",
   "language": "python",
   "name": "python3"
  },
  "language_info": {
   "codemirror_mode": {
    "name": "ipython",
    "version": 3
   },
   "file_extension": ".py",
   "mimetype": "text/x-python",
   "name": "python",
   "nbconvert_exporter": "python",
   "pygments_lexer": "ipython3",
   "version": "3.8.5"
  }
 },
 "nbformat": 4,
 "nbformat_minor": 2
}
